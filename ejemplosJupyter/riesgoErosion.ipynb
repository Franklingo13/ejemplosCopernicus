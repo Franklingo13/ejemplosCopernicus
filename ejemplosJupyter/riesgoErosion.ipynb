{ 
  "tipo_de_celda"  :  "markdown" , 
  "metadatos"  :  {}, 
  "fuente"  :  [ "algún *markdown*" ], 
}
