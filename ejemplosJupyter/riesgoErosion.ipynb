{
 "cells": [
  {
   "cell_type": "markdown",
   "id": "a33a0bdd",
   "metadata": {},
   "source": [
    "## Cuaderno python para probar el uso de los datos de la API de Copernicus"
   ]
  }
 ],
 "metadata": {
  "language_info": {
   "name": "python"
  }
 },
 "nbformat": 4,
 "nbformat_minor": 5
}
