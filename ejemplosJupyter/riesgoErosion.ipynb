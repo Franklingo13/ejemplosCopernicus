{
  "cells": [
    {
      "cell_type": "markdown",
      "metadata": {
        "id": "view-in-github",
        "colab_type": "text"
      },
      "source": [
        "<a href=\"https://colab.research.google.com/github/Franklingo13/ejemplosCopernicus/blob/main/ejemplosJupyter/riesgoErosion.ipynb\" target=\"_parent\"><img src=\"https://colab.research.google.com/assets/colab-badge.svg\" alt=\"Open In Colab\"/></a>"
      ]
    },
    {
      "cell_type": "markdown",
      "id": "a33a0bdd",
      "metadata": {
        "id": "a33a0bdd"
      },
      "source": [
        "## Cuaderno python para probar el uso de los datos de la API de Copernicus"
      ]
    },
    {
      "cell_type": "markdown",
      "source": [
        "#Estimación del riesgo de erosión en función de los períodos de suelo desnudo y la pendiente del modelo de elevación digital"
      ],
      "metadata": {
        "id": "ifOAdT2qvErH"
      },
      "id": "ifOAdT2qvErH"
    },
    {
      "cell_type": "markdown",
      "source": [
        "En el primer paso, se importan las dependencias, incluido getpass para administrar credenciales, matplotlib para la visualización de imágenes y una serie de funciones del paquete Sentinel Hub."
      ],
      "metadata": {
        "id": "1JDoqGW4vKK4"
      },
      "id": "1JDoqGW4vKK4"
    },
    {
      "cell_type": "code",
      "source": [
        "%pip install sentinelhub"
      ],
      "metadata": {
        "colab": {
          "base_uri": "https://localhost:8080/"
        },
        "collapsed": true,
        "id": "EZSS_QZaxc9k",
        "outputId": "32c25764-385e-4721-c7e5-ed54a06c3a73"
      },
      "id": "EZSS_QZaxc9k",
      "execution_count": 2,
      "outputs": [
        {
          "output_type": "stream",
          "name": "stdout",
          "text": [
            "Collecting sentinelhub\n",
            "  Downloading sentinelhub-3.11.1-py3-none-any.whl.metadata (10 kB)\n",
            "Collecting aenum>=2.1.4 (from sentinelhub)\n",
            "  Downloading aenum-3.1.16-py3-none-any.whl.metadata (3.8 kB)\n",
            "Requirement already satisfied: click in /usr/local/lib/python3.11/dist-packages (from sentinelhub) (8.2.1)\n",
            "Collecting dataclasses-json (from sentinelhub)\n",
            "  Downloading dataclasses_json-0.6.7-py3-none-any.whl.metadata (25 kB)\n",
            "Requirement already satisfied: numpy in /usr/local/lib/python3.11/dist-packages (from sentinelhub) (2.0.2)\n",
            "Requirement already satisfied: oauthlib in /usr/local/lib/python3.11/dist-packages (from sentinelhub) (3.3.1)\n",
            "Requirement already satisfied: pillow>=9.2.0 in /usr/local/lib/python3.11/dist-packages (from sentinelhub) (11.2.1)\n",
            "Requirement already satisfied: pyproj>=2.2.0 in /usr/local/lib/python3.11/dist-packages (from sentinelhub) (3.7.1)\n",
            "Requirement already satisfied: python-dateutil in /usr/local/lib/python3.11/dist-packages (from sentinelhub) (2.9.0.post0)\n",
            "Requirement already satisfied: requests-oauthlib>=1.0.0 in /usr/local/lib/python3.11/dist-packages (from sentinelhub) (2.0.0)\n",
            "Requirement already satisfied: requests>=2.27.0 in /usr/local/lib/python3.11/dist-packages (from sentinelhub) (2.32.3)\n",
            "Requirement already satisfied: shapely in /usr/local/lib/python3.11/dist-packages (from sentinelhub) (2.1.1)\n",
            "Requirement already satisfied: tifffile>=2020.9.30 in /usr/local/lib/python3.11/dist-packages (from sentinelhub) (2025.6.11)\n",
            "Collecting tomli (from sentinelhub)\n",
            "  Downloading tomli-2.2.1-cp311-cp311-manylinux_2_17_x86_64.manylinux2014_x86_64.whl.metadata (11 kB)\n",
            "Collecting tomli-w (from sentinelhub)\n",
            "  Downloading tomli_w-1.2.0-py3-none-any.whl.metadata (5.7 kB)\n",
            "Requirement already satisfied: tqdm in /usr/local/lib/python3.11/dist-packages (from sentinelhub) (4.67.1)\n",
            "Requirement already satisfied: typing-extensions>=4.5.0 in /usr/local/lib/python3.11/dist-packages (from sentinelhub) (4.14.1)\n",
            "Collecting utm (from sentinelhub)\n",
            "  Downloading utm-0.8.1-py3-none-any.whl.metadata (5.2 kB)\n",
            "Requirement already satisfied: certifi in /usr/local/lib/python3.11/dist-packages (from pyproj>=2.2.0->sentinelhub) (2025.6.15)\n",
            "Requirement already satisfied: charset-normalizer<4,>=2 in /usr/local/lib/python3.11/dist-packages (from requests>=2.27.0->sentinelhub) (3.4.2)\n",
            "Requirement already satisfied: idna<4,>=2.5 in /usr/local/lib/python3.11/dist-packages (from requests>=2.27.0->sentinelhub) (3.10)\n",
            "Requirement already satisfied: urllib3<3,>=1.21.1 in /usr/local/lib/python3.11/dist-packages (from requests>=2.27.0->sentinelhub) (2.4.0)\n",
            "Collecting marshmallow<4.0.0,>=3.18.0 (from dataclasses-json->sentinelhub)\n",
            "  Downloading marshmallow-3.26.1-py3-none-any.whl.metadata (7.3 kB)\n",
            "Collecting typing-inspect<1,>=0.4.0 (from dataclasses-json->sentinelhub)\n",
            "  Downloading typing_inspect-0.9.0-py3-none-any.whl.metadata (1.5 kB)\n",
            "Requirement already satisfied: six>=1.5 in /usr/local/lib/python3.11/dist-packages (from python-dateutil->sentinelhub) (1.17.0)\n",
            "Requirement already satisfied: packaging>=17.0 in /usr/local/lib/python3.11/dist-packages (from marshmallow<4.0.0,>=3.18.0->dataclasses-json->sentinelhub) (24.2)\n",
            "Collecting mypy-extensions>=0.3.0 (from typing-inspect<1,>=0.4.0->dataclasses-json->sentinelhub)\n",
            "  Downloading mypy_extensions-1.1.0-py3-none-any.whl.metadata (1.1 kB)\n",
            "Downloading sentinelhub-3.11.1-py3-none-any.whl (249 kB)\n",
            "\u001b[2K   \u001b[90m━━━━━━━━━━━━━━━━━━━━━━━━━━━━━━━━━━━━━━━━\u001b[0m \u001b[32m249.8/249.8 kB\u001b[0m \u001b[31m6.5 MB/s\u001b[0m eta \u001b[36m0:00:00\u001b[0m\n",
            "\u001b[?25hDownloading aenum-3.1.16-py3-none-any.whl (165 kB)\n",
            "\u001b[2K   \u001b[90m━━━━━━━━━━━━━━━━━━━━━━━━━━━━━━━━━━━━━━━━\u001b[0m \u001b[32m165.6/165.6 kB\u001b[0m \u001b[31m12.8 MB/s\u001b[0m eta \u001b[36m0:00:00\u001b[0m\n",
            "\u001b[?25hDownloading dataclasses_json-0.6.7-py3-none-any.whl (28 kB)\n",
            "Downloading tomli-2.2.1-cp311-cp311-manylinux_2_17_x86_64.manylinux2014_x86_64.whl (236 kB)\n",
            "\u001b[2K   \u001b[90m━━━━━━━━━━━━━━━━━━━━━━━━━━━━━━━━━━━━━━━━\u001b[0m \u001b[32m236.0/236.0 kB\u001b[0m \u001b[31m16.1 MB/s\u001b[0m eta \u001b[36m0:00:00\u001b[0m\n",
            "\u001b[?25hDownloading tomli_w-1.2.0-py3-none-any.whl (6.7 kB)\n",
            "Downloading utm-0.8.1-py3-none-any.whl (8.6 kB)\n",
            "Downloading marshmallow-3.26.1-py3-none-any.whl (50 kB)\n",
            "\u001b[2K   \u001b[90m━━━━━━━━━━━━━━━━━━━━━━━━━━━━━━━━━━━━━━━━\u001b[0m \u001b[32m50.9/50.9 kB\u001b[0m \u001b[31m3.7 MB/s\u001b[0m eta \u001b[36m0:00:00\u001b[0m\n",
            "\u001b[?25hDownloading typing_inspect-0.9.0-py3-none-any.whl (8.8 kB)\n",
            "Downloading mypy_extensions-1.1.0-py3-none-any.whl (5.0 kB)\n",
            "Installing collected packages: aenum, utm, tomli-w, tomli, mypy-extensions, marshmallow, typing-inspect, dataclasses-json, sentinelhub\n",
            "Successfully installed aenum-3.1.16 dataclasses-json-0.6.7 marshmallow-3.26.1 mypy-extensions-1.1.0 sentinelhub-3.11.1 tomli-2.2.1 tomli-w-1.2.0 typing-inspect-0.9.0 utm-0.8.1\n"
          ]
        }
      ]
    },
    {
      "cell_type": "code",
      "source": [
        "import getpass\n",
        "\n",
        "import matplotlib as mpl\n",
        "import matplotlib.pyplot as plt\n",
        "import pandas as pd\n",
        "from sentinelhub import (\n",
        "    CRS,\n",
        "    BBox,\n",
        "    DataCollection,\n",
        "    MimeType,\n",
        "    MosaickingOrder,\n",
        "    SentinelHubRequest,\n",
        "    SentinelHubStatistical,\n",
        "    SHConfig,\n",
        ")"
      ],
      "metadata": {
        "id": "bjXe8V6hvNaj"
      },
      "id": "bjXe8V6hvNaj",
      "execution_count": 3,
      "outputs": []
    },
    {
      "cell_type": "markdown",
      "source": [
        "##Credenciales\n",
        "Las credenciales para los servicios de Sentinel Hub ( client_id& client_secret) se pueden obtener en su Panel de Control . En la Configuración de Usuario, puede crear un nuevo Cliente OAuth para generar estas credenciales. Para obtener instrucciones más detalladas, visite la página de documentación correspondiente .\n",
        "\n",
        "Ahora que tiene su client_id & client_secret, se recomienda configurar un nuevo perfil en su paquete de Python de Sentinel Hub."
      ],
      "metadata": {
        "id": "R8Iu8-BDvRRr"
      },
      "id": "R8Iu8-BDvRRr"
    },
    {
      "cell_type": "code",
      "source": [
        "# Only run this cell if you have not created a configuration.\n",
        "\n",
        "config = SHConfig()\n",
        "config.sh_client_id = getpass.getpass(\"sh-58a81495-a763-476f-b7a0-e06628d6d237\")\n",
        "config.sh_client_secret = getpass.getpass(\"iuVxClHw9OoVcOH3R28DItWkOTbVj2PT\")\n",
        "config.sh_token_url = \"https://identity.dataspace.copernicus.eu/auth/realms/CDSE/protocol/openid-connect/token\"\n",
        "config.sh_base_url = \"https://sh.dataspace.copernicus.eu\"\n",
        "config.save(\"cdse\")"
      ],
      "metadata": {
        "colab": {
          "base_uri": "https://localhost:8080/"
        },
        "id": "0vuAh9u2va6K",
        "outputId": "977595a1-de2a-440a-ec57-a5dbda553b2e"
      },
      "id": "0vuAh9u2va6K",
      "execution_count": 4,
      "outputs": [
        {
          "name": "stdout",
          "output_type": "stream",
          "text": [
            "sh-58a81495-a763-476f-b7a0-e06628d6d237··········\n",
            "iuVxClHw9OoVcOH3R28DItWkOTbVj2PT··········\n"
          ]
        }
      ]
    },
    {
      "cell_type": "markdown",
      "source": [
        "Definición del cuadro de la región de interés\n",
        "box: -78.775184,-2.889990,-78.762588,-2.879633"
      ],
      "metadata": {
        "id": "dzZg1xEMvhvH"
      },
      "id": "dzZg1xEMvhvH"
    },
    {
      "cell_type": "code",
      "source": [
        "bbox = BBox((-78.775184,-2.889990,-78.762588,-2.879633), crs=CRS.WGS84).transform(3035)\n",
        "time_interval = \"2023-04-01\", \"2023-09-01\"\n",
        "resolution = (50, 50)"
      ],
      "metadata": {
        "id": "jVE8sqyAvq8g"
      },
      "id": "jVE8sqyAvq8g",
      "execution_count": 5,
      "outputs": []
    },
    {
      "cell_type": "markdown",
      "source": [
        "##Obtener el número de días de suelo desnudo\n"
      ],
      "metadata": {
        "id": "rZ7Sh1mVwoTL"
      },
      "id": "rZ7Sh1mVwoTL"
    },
    {
      "cell_type": "code",
      "source": [
        "evalscript_bare_soil = \"\"\"\n",
        "//VERSION=3\n",
        "function setup() {\n",
        "  return {\n",
        "    input: [\"B02\", \"B04\", \"B08\", \"B11\", \"B12\", \"SCL\", \"dataMask\"],\n",
        "    output: { bands: 3, sampleType: \"UINT16\" },\n",
        "    mosaicking: \"ORBIT\",\n",
        "  };\n",
        "}\n",
        "\n",
        "function isCloud(sample) {\n",
        "  // Define codes as invalid:\n",
        "  const invalid = [\n",
        "    0, // NO_DATA\n",
        "    1, // SATURATED_DEFECTIVE\n",
        "    3, // CLOUD_SHADOW\n",
        "    7, // CLOUD_LOW_PROBA\n",
        "    8, // CLOUD_MEDIUM_PROBA\n",
        "    9, // CLOUD_HIGH_PROBA\n",
        "    10, // THIN_CIRRUS\n",
        "  ];\n",
        "  return !invalid.includes(sample.SCL);\n",
        "}\n",
        "\n",
        "function evaluatePixel(samples) {\n",
        "  let [nBare, nNonBare, nCloud] = [0, 0, 0];\n",
        "  for (let i = 0; i < samples.length; i++) {\n",
        "    let s = samples[i];\n",
        "    if (s.dataMask === 0) {\n",
        "      continue;\n",
        "    }\n",
        "    if (isCloud(s)) {\n",
        "      nCloud++;\n",
        "      continue;\n",
        "    }\n",
        "    // bareness index\n",
        "    let mbi =\n",
        "      (2.5 * (s.B11 + s.B04 - (s.B08 + s.B02))) /\n",
        "      (s.B11 + s.B04 + (s.B08 + s.B02));\n",
        "    if (mbi > 0) {\n",
        "      nBare++;\n",
        "    } else {\n",
        "      nNonBare++;\n",
        "    }\n",
        "  }\n",
        "  return [nBare, nNonBare, nCloud];\n",
        "}\n",
        "\n",
        "\"\"\""
      ],
      "metadata": {
        "id": "N3KWi9K5v1lL"
      },
      "id": "N3KWi9K5v1lL",
      "execution_count": 6,
      "outputs": []
    },
    {
      "cell_type": "markdown",
      "source": [
        "Definición de una solicitud a la API de sentinelhub. La autorización para esta solicitud se gestiona mediante el archivo `config`."
      ],
      "metadata": {
        "id": "PUQHBxQgwx2r"
      },
      "id": "PUQHBxQgwx2r"
    },
    {
      "cell_type": "code",
      "source": [
        "request = SentinelHubRequest(\n",
        "    evalscript=evalscript_bare_soil,\n",
        "    input_data=[\n",
        "        SentinelHubRequest.input_data(\n",
        "            data_collection=DataCollection.SENTINEL2_L2A.define_from(\n",
        "                \"s2l2a\", service_url=config.sh_base_url\n",
        "            ),\n",
        "            time_interval=time_interval,\n",
        "            mosaicking_order=MosaickingOrder.MOST_RECENT,\n",
        "        )\n",
        "    ],\n",
        "    responses=[SentinelHubRequest.output_response(\"default\", MimeType.TIFF)],\n",
        "    bbox=bbox,\n",
        "    resolution=resolution,\n",
        "    config=config,\n",
        "    data_folder=\"./data\",\n",
        ")"
      ],
      "metadata": {
        "id": "qlWxhN8JwKQP"
      },
      "id": "qlWxhN8JwKQP",
      "execution_count": 7,
      "outputs": []
    },
    {
      "cell_type": "code",
      "source": [
        "bare_soil = request.get_data(save_data=True)[0]"
      ],
      "metadata": {
        "id": "d0P3WGrcwMqT"
      },
      "id": "d0P3WGrcwMqT",
      "execution_count": 8,
      "outputs": []
    },
    {
      "cell_type": "markdown",
      "source": [
        "Se calcula la relación entre los días de suelo desnudo y el total de días sin nubes para cada píxel: esta relación constituye nuestro parámetro de salida final. Utilizamos matplotlib pyplot para visualizar una imagen de este índice para el área de estudio.\n",
        "\n",
        "Las áreas azules no presentan suelo desnudo, pero están cubiertas de vegetación durante todo el período estudiado. Las áreas amarillas presentan una alta proporción de suelo desnudo y, potencialmente, suelo descubierto durante todo el período estudiado."
      ],
      "metadata": {
        "id": "CTXLomGTw1im"
      },
      "id": "CTXLomGTw1im"
    },
    {
      "cell_type": "code",
      "source": [
        "total_clear = bare_soil[:, :, 1] + bare_soil[:, :, 0]\n",
        "bare_ratio = bare_soil[:, :, 0] / total_clear\n",
        "\n",
        "# show image of bare soil ratio for the area of interest.\n",
        "\n",
        "plt.figure(figsize=(12, 12))\n",
        "plt.imshow(bare_ratio, cmap=\"cividis\");"
      ],
      "metadata": {
        "colab": {
          "base_uri": "https://localhost:8080/",
          "height": 432
        },
        "id": "P5Ne3fZ0wPCg",
        "outputId": "c0e11aa6-b5d8-4352-d1f6-aca4ab6ab44c"
      },
      "id": "P5Ne3fZ0wPCg",
      "execution_count": 9,
      "outputs": [
        {
          "output_type": "display_data",
          "data": {
            "text/plain": [
              "<Figure size 1200x1200 with 1 Axes>"
            ],
            "image/png": "[encoded data removed]"
          },
          "metadata": {}
        }
      ]
    },
    {
      "cell_type": "markdown",
      "source": [
        "## Obtención de la pendiente del terreno"
      ],
      "metadata": {
        "id": "l2Aia3x2wW0S"
      },
      "id": "l2Aia3x2wW0S"
    },
    {
      "cell_type": "code",
      "metadata": {
        "id": "6ac9dac0"
      },
      "source": [
        "evalscript = \"\"\"\n",
        "//VERSION=3\n",
        "function setup() {\n",
        "  return {\n",
        "    input: [\"slope\", \"dataMask\"],\n",
        "    output: { bands: 1, sampleType: \"FLOAT32\" },\n",
        "  };\n",
        "}\n",
        "\n",
        "function evaluatePixel(samples) {\n",
        "  return [samples.slope];\n",
        "}\n",
        "\"\"\""
      ],
      "id": "6ac9dac0",
      "execution_count": null,
      "outputs": []
    },
    {
      "cell_type": "markdown",
      "source": [
        "Para generar una imagen en color real se usará el mosaico trimestral de Sentinel-2 sin nubes. La visualización se realiza mediante una solicitud a la API de procesos, basada en la colección de la fuente de datos y el evalscript para la visualización en color real."
      ],
      "metadata": {
        "id": "voLp9HQH0X_g"
      },
      "id": "voLp9HQH0X_g"
    },
    {
      "cell_type": "code",
      "source": [
        "S2l3_cloudless_mosaic = DataCollection.define_byoc(\n",
        "    collection_id=\"5460de54-082e-473a-b6ea-d5cbe3c17cca\"\n",
        ")"
      ],
      "metadata": {
        "id": "iTYJd1FN086p"
      },
      "id": "iTYJd1FN086p",
      "execution_count": 10,
      "outputs": []
    },
    {
      "cell_type": "markdown",
      "source": [
        "## Obtención de imagen de color verdadero"
      ],
      "metadata": {
        "id": "82qhU76t1DAb"
      },
      "id": "82qhU76t1DAb"
    },
    {
      "cell_type": "code",
      "source": [
        "evalscript_true_color = \"\"\"\n",
        "//VERSION=3\n",
        "function setup() {\n",
        "  return {\n",
        "    input: [\"B04\",\"B03\",\"B02\", \"dataMask\"],\n",
        "    output: { bands: 4 }\n",
        "  };\n",
        "}\n",
        "\n",
        "// Contrast enhance / highlight compress\n",
        "\n",
        "const maxR = 3.0; // max reflectance\n",
        "const midR = 0.13;\n",
        "const sat = 1.2;\n",
        "const gamma = 1.8;\n",
        "const scalefac = 10000;\n",
        "\n",
        "function evaluatePixel(smp) {\n",
        "  const rgbLin = satEnh(sAdj(smp.B04/scalefac), sAdj(smp.B03/scalefac), sAdj(smp.B02/scalefac));\n",
        "  return [sRGB(rgbLin[0]), sRGB(rgbLin[1]), sRGB(rgbLin[2]), smp.dataMask];\n",
        "}\n",
        "\n",
        "function sAdj(a) {\n",
        "  return adjGamma(adj(a, midR, 1, maxR));\n",
        "}\n",
        "\n",
        "const gOff = 0.01;\n",
        "const gOffPow = Math.pow(gOff, gamma);\n",
        "const gOffRange = Math.pow(1 + gOff, gamma) - gOffPow;\n",
        "\n",
        "function adjGamma(b) {\n",
        "  return (Math.pow((b + gOff), gamma) - gOffPow)/gOffRange;\n",
        "}\n",
        "\n",
        "// Saturation enhancement\n",
        "function satEnh(r, g, b) {\n",
        "  const avgS = (r + g + b) / 3.0 * (1 - sat);\n",
        "  return [clip(avgS + r * sat), clip(avgS + g * sat), clip(avgS + b * sat)];\n",
        "}\n",
        "\n",
        "function clip(s) {\n",
        "  return s < 0 ? 0 : s > 1 ? 1 : s;\n",
        "}\n",
        "\n",
        "//contrast enhancement with highlight compression\n",
        "function adj(a, tx, ty, maxC) {\n",
        "  var ar = clip(a / maxC, 0, 1);\n",
        "  return ar * (ar * (tx/maxC + ty -1) - ty) / (ar * (2 * tx/maxC - 1) - tx/maxC);\n",
        "}\n",
        "\n",
        "const sRGB = (c) => c <= 0.0031308 ? (12.92 * c) : (1.055 * Math.pow(c, 0.41666666666) - 0.055);\"\"\""
      ],
      "metadata": {
        "id": "qYeucAJ9zXhd"
      },
      "id": "qYeucAJ9zXhd",
      "execution_count": 11,
      "outputs": []
    },
    {
      "cell_type": "markdown",
      "source": [
        "Solicitud de API de proceso para obtener una imagen en color real del área de estudio."
      ],
      "metadata": {
        "id": "VZ6L0Tk9zawZ"
      },
      "id": "VZ6L0Tk9zawZ"
    },
    {
      "cell_type": "code",
      "source": [
        "request_true_color = SentinelHubRequest(\n",
        "    evalscript=evalscript_true_color,\n",
        "    input_data=[\n",
        "        SentinelHubRequest.input_data(\n",
        "            data_collection=S2l3_cloudless_mosaic,\n",
        "            time_interval=time_interval,\n",
        "        )\n",
        "    ],\n",
        "    responses=[SentinelHubRequest.output_response(\"default\", MimeType.PNG)],\n",
        "    bbox=bbox,\n",
        "    resolution=(10, 10),\n",
        "    config=config,\n",
        "    data_folder=\"./data\",\n",
        ")"
      ],
      "metadata": {
        "id": "dWvmX0tyzjTT"
      },
      "id": "dWvmX0tyzjTT",
      "execution_count": 12,
      "outputs": []
    },
    {
      "cell_type": "markdown",
      "source": [
        "Se cargan los datos de solicitud en una variable"
      ],
      "metadata": {
        "id": "cnPAdf0TzrNl"
      },
      "id": "cnPAdf0TzrNl"
    },
    {
      "cell_type": "code",
      "source": [
        "true_color_imgs = request_true_color.get_data(save_data=True)\n",
        "image = true_color_imgs[0]"
      ],
      "metadata": {
        "id": "HwiZJGzNzmlX"
      },
      "id": "HwiZJGzNzmlX",
      "execution_count": 13,
      "outputs": []
    },
    {
      "cell_type": "code",
      "source": [
        "# Mostrar la imagen de color real\n",
        "\n",
        "plt.figure(figsize=(12, 12))\n",
        "plt.imshow(image)\n"
      ],
      "metadata": {
        "id": "SDCuDACGz8VV",
        "outputId": "4e88760b-1d4e-4353-aa47-52cf37b98fd9",
        "colab": {
          "base_uri": "https://localhost:8080/",
          "height": 448
        }
      },
      "id": "SDCuDACGz8VV",
      "execution_count": 17,
      "outputs": [
        {
          "output_type": "execute_result",
          "data": {
            "text/plain": [
              "<matplotlib.image.AxesImage at 0x7cc99883a0d0>"
            ]
          },
          "metadata": {},
          "execution_count": 17
        },
        {
          "output_type": "display_data",
          "data": {
            "text/plain": [
              "<Figure size 1200x1200 with 1 Axes>"
            ],
            "image/png": "[encoded data removed]"
          },
          "metadata": {}
        }
      ]
    }
  ],
  "metadata": {
    "language_info": {
      "name": "python"
    },
    "colab": {
      "provenance": [],
      "include_colab_link": true
    },
    "kernelspec": {
      "name": "python3",
      "display_name": "Python 3"
    }
  },
  "nbformat": 4,
  "nbformat_minor": 5
}