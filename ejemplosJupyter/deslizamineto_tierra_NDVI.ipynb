{
 "cells": [
  {
   "cell_type": "markdown",
   "id": "15f6643f",
   "metadata": {},
   "source": [
    "<a href=\"https://colab.research.google.com/github/Franklingo13/ejemplosCopernicus/blob/main/ejemplosJupyter/riesgoErosion.ipynb\" target=\"_parent\"><img src=\"https://colab.research.google.com/assets/colab-badge.svg\" alt=\"Open In Colab\"/></a>"
   ]
  },
  {
   "cell_type": "markdown",
   "id": "b6a98d27",
   "metadata": {},
   "source": [
    "# Enfoque basado en el NDVI para estudiar áreas de deslizamientos de tierra\n",
    "Las investigaciones indican que el NDVI puede desempeñar un papel crucial en la identificación de zonas de deslizamientos. Si bien es posible un flujo de trabajo avanzado, este cuaderno opta por un enfoque simple que utiliza la diferencia del NDVI y aplica un umbral al resultado para detectar zonas de deslizamientos. Nuestro análisis se basa en la colección Sentinel-2 Nivel 2A, obtenida del ecosistema de datos de Copernicus mediante openEO."
   ]
  },
  {
   "cell_type": "code",
   "execution_count": null,
   "id": "5652580b",
   "metadata": {},
   "outputs": [],
   "source": [
    "%pip install openeo"
   ]
  },
  {
   "cell_type": "code",
   "execution_count": null,
   "id": "b642db0e",
   "metadata": {},
   "outputs": [],
   "source": [
    "import openeo\n",
    "import rasterio\n",
    "from rasterio.plot import show\n",
    "import matplotlib.pyplot as plt\n",
    "import matplotlib.colors\n",
    "import matplotlib.patches as mpatches\n",
    "connection = openeo.connect(\"openeo.dataspace.copernicus.eu\").authenticate_oidc()"
   ]
  },
  {
   "cell_type": "code",
   "execution_count": null,
   "id": "d83c3f28",
   "metadata": {},
   "outputs": [],
   "source": [
    "# Area de interés\n",
    "spatial_extent = {\n",
    "    \"west\": 13.882567409197492,\n",
    "    \"south\": 40.7150627793427,\n",
    "    \"east\": 13.928593792166282,\n",
    "    \"north\": 40.747050251559216,\n",
    "}\n",
    "\n",
    "# Cargar la colección de datos Sentinel-2\n",
    "s2pre = connection.load_collection(\n",
    "    \"SENTINEL2_L2A\",\n",
    "    temporal_extent=[\"2022-08-25\", \"2022-11-25\"],\n",
    "    spatial_extent=spatial_extent,\n",
    "    bands=[\"B04\", \"B08\"],\n",
    ")\n",
    "# Calcular el NDVI\n",
    "prendvi = s2pre.ndvi().mean_time()\n",
    "\n",
    "# Para el cubo de datos posterior, se carga la colección de datos Sentinel-2 con la extensión \n",
    "# temporal comenzando desde el final de la extensión temporal previa al evento.\n",
    "s2post = connection.load_collection(\n",
    "    \"SENTINEL2_L2A\",\n",
    "    temporal_extent=[\"2022-11-26\", \"2022-12-25\"],\n",
    "    spatial_extent=spatial_extent,\n",
    "    bands=[\"B04\", \"B08\"],\n",
    ")\n",
    "\n",
    "# Calcular el NDVI para el cubo de datos posterior\n",
    "postndvi = s2post.ndvi().mean_time()\n",
    "# Calcular la diferencia del NDVI\n",
    "diff = postndvi - prendvi\n",
    "# Ejecuta el proceso\n",
    "diff.download(\"NDVIDiff.tiff\")\n"
   ]
  },
  {
   "cell_type": "code",
   "execution_count": null,
   "id": "19842dc9",
   "metadata": {},
   "outputs": [],
   "source": [
    "# Graficar el resultado\n",
    "# Cargar la imagen resultante\n",
    "img = rasterio.open(\"NDVIDiff.tiff\")\n",
    "\n",
    "# Se aplica un umbral para resaltar las áreas de deslizamiento\n",
    "value = img.read(1)\n",
    "cmap = matplotlib.colors.ListedColormap([\"black\", \"red\"])\n",
    "fig, ax = plt.subplots(figsize=(8, 6), dpi=80)\n",
    "im = show(\n",
    "    ((value < -0.48) & (value > -1)),\n",
    "    vmin=0,\n",
    "    vmax=1,\n",
    "    cmap=cmap,\n",
    "    transform=img.transform,\n",
    "    ax=ax,\n",
    ")\n",
    "values = [\"Ausencia\", \"Presencia\"]\n",
    "colors = [\"black\", \"red\"]\n",
    "ax.set_title(\"Detected Landslide Area\")\n",
    "ax.set_xlabel(\"X Coordinates\")\n",
    "ax.set_ylabel(\"Y Coordinates\")\n",
    "patches = [\n",
    "    mpatches.Patch(color=colors[i], label=\"Deslizamiento: {l}\".format(l=values[i]))\n",
    "    for i in range(len(values))\n",
    "]\n",
    "fig.legend(handles=patches, bbox_to_anchor=(0.83, 1.03), loc=1)"
   ]
  }
 ],
 "metadata": {
  "language_info": {
   "name": "python"
  }
 },
 "nbformat": 4,
 "nbformat_minor": 5
}
