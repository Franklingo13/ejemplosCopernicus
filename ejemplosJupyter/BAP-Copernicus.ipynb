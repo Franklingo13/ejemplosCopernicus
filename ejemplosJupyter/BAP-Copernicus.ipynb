{
 "cells": [
  {
   "cell_type": "markdown",
   "id": "7fbc5995",
   "metadata": {},
   "source": [
    "# La mejor composición de píxeles disponible (BAP)\n",
    "En este cuaderno se crea una imagen compuesta mensual basada en el método del Mejor Píxel Disponible (BPA) de OpenEO. Este método, con base científica, minimiza la mezcla de píxeles de diferentes observaciones. Además, para cada píxel, se tomarán todas las bandas de una sola observación. Como resultado, se observa la firma espectral de la imagen compuesta, en lugar de ser una combinación de múltiples observaciones."
   ]
  },
  {
   "cell_type": "code",
   "execution_count": null,
   "id": "38ccb1bf",
   "metadata": {},
   "outputs": [],
   "source": [
    "%pip install sentinelhub"
   ]
  }
 ],
 "metadata": {
  "language_info": {
   "name": "python"
  }
 },
 "nbformat": 4,
 "nbformat_minor": 5
}
