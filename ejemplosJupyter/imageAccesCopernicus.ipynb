{
 "cells": [
  {
   "cell_type": "markdown",
   "id": "5736fda8",
   "metadata": {},
   "source": [
    "# Primeros pasos para acceder a imágenes satelitales en el ecosistema espacial de datos de Copernicus con las API de Sentinel Hub\n",
    "La API de Sentinel Hub es una interfaz API RESTful que proporciona acceso a diversos archivos de imágenes satelitales. Permite acceder a datos satelitales sin procesar, imágenes renderizadas, análisis estadísticos y otras funciones."
   ]
  },
  {
   "cell_type": "code",
   "execution_count": null,
   "id": "d7ff73c9",
   "metadata": {
    "vscode": {
     "languageId": "plaintext"
    }
   },
   "outputs": [],
   "source": [
    "%pip install sentinelhub"
   ]
  },
  {
   "cell_type": "code",
   "execution_count": null,
   "id": "3d444fdd",
   "metadata": {
    "vscode": {
     "languageId": "plaintext"
    }
   },
   "outputs": [],
   "source": [
    "# Utilities\n",
    "import matplotlib.pyplot as plt\n",
    "import pandas as pd\n",
    "import getpass\n",
    "\n",
    "from sentinelhub import (\n",
    "    SHConfig,\n",
    "    DataCollection,\n",
    "    SentinelHubCatalog,\n",
    "    SentinelHubRequest,\n",
    "    SentinelHubStatistical,\n",
    "    BBox,\n",
    "    bbox_to_dimensions,\n",
    "    CRS,\n",
    "    MimeType,\n",
    "    Geometry,\n",
    ")\n",
    "\n",
    "from utils import plot_image"
   ]
  }
 ],
 "metadata": {
  "language_info": {
   "name": "python"
  }
 },
 "nbformat": 4,
 "nbformat_minor": 5
}
